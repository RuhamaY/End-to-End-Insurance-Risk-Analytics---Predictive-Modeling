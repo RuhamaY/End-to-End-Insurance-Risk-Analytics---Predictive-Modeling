{
 "cells": [
  {
   "cell_type": "markdown",
   "id": "7d257c72",
   "metadata": {},
   "source": [
    "# Task 4: Predictive Modeling\n"
   ]
  },
  {
   "cell_type": "markdown",
   "id": "c0556380",
   "metadata": {},
   "source": [
    "Load & Prepare Data"
   ]
  },
  {
   "cell_type": "code",
   "execution_count": null,
   "id": "f5890707",
   "metadata": {
    "vscode": {
     "languageId": "plaintext"
    }
   },
   "outputs": [],
   "source": [
    "df = pd.read_csv(\"../data/insurance.txt\", delimiter=\"|\")\n",
    "df['ClaimOccurred'] = df['TotalClaims'] > 0\n"
   ]
  },
  {
   "cell_type": "markdown",
   "id": "e2db32a7",
   "metadata": {},
   "source": [
    "Features Used"
   ]
  },
  {
   "cell_type": "code",
   "execution_count": null,
   "id": "2c30dc8b",
   "metadata": {
    "vscode": {
     "languageId": "plaintext"
    }
   },
   "outputs": [],
   "source": [
    "['Province', 'PostalCode', 'VehicleType', 'RegistrationYear', 'Make',\n",
    " 'Cylinders', 'cubiccapacity', 'kilowatts', 'bodytype', 'CustomValueEstimate',\n",
    " 'Gender', 'NumberOfVehiclesInFleet']\n"
   ]
  },
  {
   "cell_type": "markdown",
   "id": "1b780112",
   "metadata": {},
   "source": [
    "Models Built\n",
    "\n",
    "🔢 XGBoost Regressor → TotalClaims\n",
    "\n",
    "💰 Random Forest Regressor → CalculatedPremiumPerTerm\n",
    "\n",
    "⚠️ XGBoost Classifier → ClaimOccurred"
   ]
  },
  {
   "cell_type": "markdown",
   "id": "d4f4e2cd",
   "metadata": {},
   "source": [
    "Model Evaluation"
   ]
  },
  {
   "cell_type": "code",
   "execution_count": null,
   "id": "9b996ebd",
   "metadata": {
    "vscode": {
     "languageId": "plaintext"
    }
   },
   "outputs": [],
   "source": [
    "mean_squared_error, r2_score, classification_report\n"
   ]
  },
  {
   "cell_type": "markdown",
   "id": "927121b6",
   "metadata": {},
   "source": [
    "Interpretability"
   ]
  },
  {
   "cell_type": "code",
   "execution_count": null,
   "id": "e21a559c",
   "metadata": {
    "vscode": {
     "languageId": "plaintext"
    }
   },
   "outputs": [],
   "source": [
    "import shap\n",
    "shap.summary_plot(shap_values, X_train[:100])\n"
   ]
  }
 ],
 "metadata": {
  "language_info": {
   "name": "python"
  }
 },
 "nbformat": 4,
 "nbformat_minor": 5
}
