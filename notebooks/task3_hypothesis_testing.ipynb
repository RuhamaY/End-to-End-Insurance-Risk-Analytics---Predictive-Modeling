{
 "cells": [
  {
   "cell_type": "markdown",
   "id": "4ebbd3d2",
   "metadata": {},
   "source": [
    "# Task 3: A/B Hypothesis Testing\n"
   ]
  },
  {
   "cell_type": "markdown",
   "id": "5ac7a1d4",
   "metadata": {},
   "source": [
    "Imports"
   ]
  },
  {
   "cell_type": "code",
   "execution_count": null,
   "id": "ca83432d",
   "metadata": {
    "vscode": {
     "languageId": "plaintext"
    }
   },
   "outputs": [],
   "source": [
    "import pandas as pd\n",
    "import numpy as np\n",
    "from scipy import stats\n",
    "import seaborn as sns\n",
    "import matplotlib.pyplot as plt\n"
   ]
  },
  {
   "cell_type": "markdown",
   "id": "97488731",
   "metadata": {},
   "source": [
    "Load Dataset"
   ]
  },
  {
   "cell_type": "code",
   "execution_count": null,
   "id": "f3ccd213",
   "metadata": {
    "vscode": {
     "languageId": "plaintext"
    }
   },
   "outputs": [],
   "source": [
    "df = pd.read_csv(\"../data/insurance.txt\", delimiter=\"|\")\n",
    "df['TransactionMonth'] = pd.to_datetime(df['TransactionMonth'], errors='coerce')\n",
    "df['LossRatio'] = df['TotalClaims'] / df['TotalPremium']\n",
    "df['LossRatio'] = df['LossRatio'].replace([np.inf, -np.inf], np.nan)\n",
    "df['ClaimOccurred'] = df['TotalClaims'] > 0\n",
    "df.head()\n"
   ]
  },
  {
   "cell_type": "markdown",
   "id": "ff60cab8",
   "metadata": {},
   "source": [
    "📊 Hypotheses Tested\n",
    "1. Province vs Risk (ANOVA)"
   ]
  },
  {
   "cell_type": "code",
   "execution_count": null,
   "id": "dedb961c",
   "metadata": {
    "vscode": {
     "languageId": "plaintext"
    }
   },
   "outputs": [],
   "source": [
    "province_groups = df[['Province', 'LossRatio']].dropna().groupby('Province')['LossRatio'].apply(list)\n",
    "f_stat, p_val = stats.f_oneway(*province_groups)\n"
   ]
  },
  {
   "cell_type": "markdown",
   "id": "7e323df8",
   "metadata": {},
   "source": [
    "2. Zip Code vs Risk"
   ]
  },
  {
   "cell_type": "code",
   "execution_count": null,
   "id": "39b48f15",
   "metadata": {
    "vscode": {
     "languageId": "plaintext"
    }
   },
   "outputs": [],
   "source": [
    "top_zipcodes = df['PostalCode'].value_counts().head(2).index\n",
    "group1 = df[df['PostalCode'] == top_zipcodes[0]]['LossRatio'].dropna()\n",
    "group2 = df[df['PostalCode'] == top_zipcodes[1]]['LossRatio'].dropna()\n",
    "t_stat, p_val = stats.ttest_ind(group1, group2, equal_var=False)\n"
   ]
  },
  {
   "cell_type": "markdown",
   "id": "68d22a63",
   "metadata": {},
   "source": [
    "3. Margin Difference by Zip Code"
   ]
  },
  {
   "cell_type": "code",
   "execution_count": null,
   "id": "ab578d2d",
   "metadata": {},
   "outputs": [],
   "source": [
    "df['Margin'] = df['TotalPremium'] - df['TotalClaims']\n",
    "group1 = df[df['PostalCode'] == top_zipcodes[0]]['Margin'].dropna()\n",
    "group2 = df[df['PostalCode'] == top_zipcodes[1]]['Margin'].dropna()\n",
    "t_stat, p_val = stats.ttest_ind(group1, group2, equal_var=False)\n"
   ]
  },
  {
   "cell_type": "markdown",
   "id": "fbe0e628",
   "metadata": {},
   "source": [
    "4. Gender vs Risk"
   ]
  },
  {
   "cell_type": "code",
   "execution_count": null,
   "id": "13f1653a",
   "metadata": {},
   "outputs": [],
   "source": [
    "group_m = df[df['Gender'] == 'Male']['LossRatio'].dropna()\n",
    "group_f = df[df['Gender'] == 'Female']['LossRatio'].dropna()\n",
    "t_stat, p_val = stats.ttest_ind(group_m, group_f, equal_var=False)\n"
   ]
  }
 ],
 "metadata": {
  "language_info": {
   "name": "python"
  }
 },
 "nbformat": 4,
 "nbformat_minor": 5
}
