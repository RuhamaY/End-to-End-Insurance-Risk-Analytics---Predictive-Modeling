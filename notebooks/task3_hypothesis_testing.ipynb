{
 "cells": [
  {
   "cell_type": "markdown",
   "id": "4ebbd3d2",
   "metadata": {},
   "source": [
    "# Task 3: A/B Hypothesis Testing\n"
   ]
  },
  {
   "cell_type": "markdown",
   "id": "5ac7a1d4",
   "metadata": {},
   "source": [
    "Imports"
   ]
  },
  {
   "cell_type": "code",
   "execution_count": 3,
   "id": "ca83432d",
   "metadata": {},
   "outputs": [],
   "source": [
    "import pandas as pd\n",
    "import numpy as np\n",
    "from scipy import stats\n",
    "import seaborn as sns\n",
    "import matplotlib.pyplot as plt\n"
   ]
  },
  {
   "cell_type": "markdown",
   "id": "97488731",
   "metadata": {},
   "source": [
    "Load Dataset"
   ]
  },
  {
   "cell_type": "code",
   "execution_count": 4,
   "id": "f3ccd213",
   "metadata": {},
   "outputs": [
    {
     "name": "stderr",
     "output_type": "stream",
     "text": [
      "/tmp/ipykernel_171076/2342708516.py:1: DtypeWarning: Columns (32,37) have mixed types. Specify dtype option on import or set low_memory=False.\n",
      "  df = pd.read_csv(\"../data/insurance.txt\", delimiter=\"|\")\n"
     ]
    },
    {
     "data": {
      "text/html": [
       "<div>\n",
       "<style scoped>\n",
       "    .dataframe tbody tr th:only-of-type {\n",
       "        vertical-align: middle;\n",
       "    }\n",
       "\n",
       "    .dataframe tbody tr th {\n",
       "        vertical-align: top;\n",
       "    }\n",
       "\n",
       "    .dataframe thead th {\n",
       "        text-align: right;\n",
       "    }\n",
       "</style>\n",
       "<table border=\"1\" class=\"dataframe\">\n",
       "  <thead>\n",
       "    <tr style=\"text-align: right;\">\n",
       "      <th></th>\n",
       "      <th>UnderwrittenCoverID</th>\n",
       "      <th>PolicyID</th>\n",
       "      <th>TransactionMonth</th>\n",
       "      <th>IsVATRegistered</th>\n",
       "      <th>Citizenship</th>\n",
       "      <th>LegalType</th>\n",
       "      <th>Title</th>\n",
       "      <th>Language</th>\n",
       "      <th>Bank</th>\n",
       "      <th>AccountType</th>\n",
       "      <th>...</th>\n",
       "      <th>CoverType</th>\n",
       "      <th>CoverGroup</th>\n",
       "      <th>Section</th>\n",
       "      <th>Product</th>\n",
       "      <th>StatutoryClass</th>\n",
       "      <th>StatutoryRiskType</th>\n",
       "      <th>TotalPremium</th>\n",
       "      <th>TotalClaims</th>\n",
       "      <th>LossRatio</th>\n",
       "      <th>ClaimOccurred</th>\n",
       "    </tr>\n",
       "  </thead>\n",
       "  <tbody>\n",
       "    <tr>\n",
       "      <th>0</th>\n",
       "      <td>145249</td>\n",
       "      <td>12827</td>\n",
       "      <td>2015-03-01</td>\n",
       "      <td>True</td>\n",
       "      <td></td>\n",
       "      <td>Close Corporation</td>\n",
       "      <td>Mr</td>\n",
       "      <td>English</td>\n",
       "      <td>First National Bank</td>\n",
       "      <td>Current account</td>\n",
       "      <td>...</td>\n",
       "      <td>Windscreen</td>\n",
       "      <td>Comprehensive - Taxi</td>\n",
       "      <td>Motor Comprehensive</td>\n",
       "      <td>Mobility Metered Taxis: Monthly</td>\n",
       "      <td>Commercial</td>\n",
       "      <td>IFRS Constant</td>\n",
       "      <td>21.929825</td>\n",
       "      <td>0.0</td>\n",
       "      <td>0.0</td>\n",
       "      <td>False</td>\n",
       "    </tr>\n",
       "    <tr>\n",
       "      <th>1</th>\n",
       "      <td>145249</td>\n",
       "      <td>12827</td>\n",
       "      <td>2015-05-01</td>\n",
       "      <td>True</td>\n",
       "      <td></td>\n",
       "      <td>Close Corporation</td>\n",
       "      <td>Mr</td>\n",
       "      <td>English</td>\n",
       "      <td>First National Bank</td>\n",
       "      <td>Current account</td>\n",
       "      <td>...</td>\n",
       "      <td>Windscreen</td>\n",
       "      <td>Comprehensive - Taxi</td>\n",
       "      <td>Motor Comprehensive</td>\n",
       "      <td>Mobility Metered Taxis: Monthly</td>\n",
       "      <td>Commercial</td>\n",
       "      <td>IFRS Constant</td>\n",
       "      <td>21.929825</td>\n",
       "      <td>0.0</td>\n",
       "      <td>0.0</td>\n",
       "      <td>False</td>\n",
       "    </tr>\n",
       "    <tr>\n",
       "      <th>2</th>\n",
       "      <td>145249</td>\n",
       "      <td>12827</td>\n",
       "      <td>2015-07-01</td>\n",
       "      <td>True</td>\n",
       "      <td></td>\n",
       "      <td>Close Corporation</td>\n",
       "      <td>Mr</td>\n",
       "      <td>English</td>\n",
       "      <td>First National Bank</td>\n",
       "      <td>Current account</td>\n",
       "      <td>...</td>\n",
       "      <td>Windscreen</td>\n",
       "      <td>Comprehensive - Taxi</td>\n",
       "      <td>Motor Comprehensive</td>\n",
       "      <td>Mobility Metered Taxis: Monthly</td>\n",
       "      <td>Commercial</td>\n",
       "      <td>IFRS Constant</td>\n",
       "      <td>0.000000</td>\n",
       "      <td>0.0</td>\n",
       "      <td>NaN</td>\n",
       "      <td>False</td>\n",
       "    </tr>\n",
       "    <tr>\n",
       "      <th>3</th>\n",
       "      <td>145255</td>\n",
       "      <td>12827</td>\n",
       "      <td>2015-05-01</td>\n",
       "      <td>True</td>\n",
       "      <td></td>\n",
       "      <td>Close Corporation</td>\n",
       "      <td>Mr</td>\n",
       "      <td>English</td>\n",
       "      <td>First National Bank</td>\n",
       "      <td>Current account</td>\n",
       "      <td>...</td>\n",
       "      <td>Own Damage</td>\n",
       "      <td>Comprehensive - Taxi</td>\n",
       "      <td>Motor Comprehensive</td>\n",
       "      <td>Mobility Metered Taxis: Monthly</td>\n",
       "      <td>Commercial</td>\n",
       "      <td>IFRS Constant</td>\n",
       "      <td>512.848070</td>\n",
       "      <td>0.0</td>\n",
       "      <td>0.0</td>\n",
       "      <td>False</td>\n",
       "    </tr>\n",
       "    <tr>\n",
       "      <th>4</th>\n",
       "      <td>145255</td>\n",
       "      <td>12827</td>\n",
       "      <td>2015-07-01</td>\n",
       "      <td>True</td>\n",
       "      <td></td>\n",
       "      <td>Close Corporation</td>\n",
       "      <td>Mr</td>\n",
       "      <td>English</td>\n",
       "      <td>First National Bank</td>\n",
       "      <td>Current account</td>\n",
       "      <td>...</td>\n",
       "      <td>Own Damage</td>\n",
       "      <td>Comprehensive - Taxi</td>\n",
       "      <td>Motor Comprehensive</td>\n",
       "      <td>Mobility Metered Taxis: Monthly</td>\n",
       "      <td>Commercial</td>\n",
       "      <td>IFRS Constant</td>\n",
       "      <td>0.000000</td>\n",
       "      <td>0.0</td>\n",
       "      <td>NaN</td>\n",
       "      <td>False</td>\n",
       "    </tr>\n",
       "  </tbody>\n",
       "</table>\n",
       "<p>5 rows × 54 columns</p>\n",
       "</div>"
      ],
      "text/plain": [
       "   UnderwrittenCoverID  PolicyID TransactionMonth  IsVATRegistered  \\\n",
       "0               145249     12827       2015-03-01             True   \n",
       "1               145249     12827       2015-05-01             True   \n",
       "2               145249     12827       2015-07-01             True   \n",
       "3               145255     12827       2015-05-01             True   \n",
       "4               145255     12827       2015-07-01             True   \n",
       "\n",
       "  Citizenship          LegalType Title Language                 Bank  \\\n",
       "0              Close Corporation    Mr  English  First National Bank   \n",
       "1              Close Corporation    Mr  English  First National Bank   \n",
       "2              Close Corporation    Mr  English  First National Bank   \n",
       "3              Close Corporation    Mr  English  First National Bank   \n",
       "4              Close Corporation    Mr  English  First National Bank   \n",
       "\n",
       "       AccountType  ...   CoverType            CoverGroup  \\\n",
       "0  Current account  ...  Windscreen  Comprehensive - Taxi   \n",
       "1  Current account  ...  Windscreen  Comprehensive - Taxi   \n",
       "2  Current account  ...  Windscreen  Comprehensive - Taxi   \n",
       "3  Current account  ...  Own Damage  Comprehensive - Taxi   \n",
       "4  Current account  ...  Own Damage  Comprehensive - Taxi   \n",
       "\n",
       "               Section                          Product  StatutoryClass  \\\n",
       "0  Motor Comprehensive  Mobility Metered Taxis: Monthly      Commercial   \n",
       "1  Motor Comprehensive  Mobility Metered Taxis: Monthly      Commercial   \n",
       "2  Motor Comprehensive  Mobility Metered Taxis: Monthly      Commercial   \n",
       "3  Motor Comprehensive  Mobility Metered Taxis: Monthly      Commercial   \n",
       "4  Motor Comprehensive  Mobility Metered Taxis: Monthly      Commercial   \n",
       "\n",
       "  StatutoryRiskType TotalPremium TotalClaims  LossRatio ClaimOccurred  \n",
       "0     IFRS Constant    21.929825         0.0        0.0         False  \n",
       "1     IFRS Constant    21.929825         0.0        0.0         False  \n",
       "2     IFRS Constant     0.000000         0.0        NaN         False  \n",
       "3     IFRS Constant   512.848070         0.0        0.0         False  \n",
       "4     IFRS Constant     0.000000         0.0        NaN         False  \n",
       "\n",
       "[5 rows x 54 columns]"
      ]
     },
     "execution_count": 4,
     "metadata": {},
     "output_type": "execute_result"
    }
   ],
   "source": [
    "df = pd.read_csv(\"../data/insurance.txt\", delimiter=\"|\")\n",
    "df['TransactionMonth'] = pd.to_datetime(df['TransactionMonth'], errors='coerce')\n",
    "df['LossRatio'] = df['TotalClaims'] / df['TotalPremium']\n",
    "df['LossRatio'] = df['LossRatio'].replace([np.inf, -np.inf], np.nan)\n",
    "df['ClaimOccurred'] = df['TotalClaims'] > 0\n",
    "df.head()\n"
   ]
  },
  {
   "cell_type": "markdown",
   "id": "ff60cab8",
   "metadata": {},
   "source": [
    "📊 Hypotheses Tested\n",
    "1. Province vs Risk (ANOVA)"
   ]
  },
  {
   "cell_type": "code",
   "execution_count": 5,
   "id": "dedb961c",
   "metadata": {},
   "outputs": [],
   "source": [
    "province_groups = df[['Province', 'LossRatio']].dropna().groupby('Province')['LossRatio'].apply(list)\n",
    "f_stat, p_val = stats.f_oneway(*province_groups)\n"
   ]
  },
  {
   "cell_type": "markdown",
   "id": "7e323df8",
   "metadata": {},
   "source": [
    "2. Zip Code vs Risk"
   ]
  },
  {
   "cell_type": "code",
   "execution_count": 6,
   "id": "39b48f15",
   "metadata": {},
   "outputs": [],
   "source": [
    "top_zipcodes = df['PostalCode'].value_counts().head(2).index\n",
    "group1 = df[df['PostalCode'] == top_zipcodes[0]]['LossRatio'].dropna()\n",
    "group2 = df[df['PostalCode'] == top_zipcodes[1]]['LossRatio'].dropna()\n",
    "t_stat, p_val = stats.ttest_ind(group1, group2, equal_var=False)\n"
   ]
  },
  {
   "cell_type": "markdown",
   "id": "68d22a63",
   "metadata": {},
   "source": [
    "3. Margin Difference by Zip Code"
   ]
  },
  {
   "cell_type": "code",
   "execution_count": 7,
   "id": "ab578d2d",
   "metadata": {},
   "outputs": [],
   "source": [
    "df['Margin'] = df['TotalPremium'] - df['TotalClaims']\n",
    "group1 = df[df['PostalCode'] == top_zipcodes[0]]['Margin'].dropna()\n",
    "group2 = df[df['PostalCode'] == top_zipcodes[1]]['Margin'].dropna()\n",
    "t_stat, p_val = stats.ttest_ind(group1, group2, equal_var=False)\n"
   ]
  },
  {
   "cell_type": "markdown",
   "id": "fbe0e628",
   "metadata": {},
   "source": [
    "4. Gender vs Risk"
   ]
  },
  {
   "cell_type": "code",
   "execution_count": 8,
   "id": "13f1653a",
   "metadata": {},
   "outputs": [],
   "source": [
    "group_m = df[df['Gender'] == 'Male']['LossRatio'].dropna()\n",
    "group_f = df[df['Gender'] == 'Female']['LossRatio'].dropna()\n",
    "t_stat, p_val = stats.ttest_ind(group_m, group_f, equal_var=False)\n"
   ]
  }
 ],
 "metadata": {
  "kernelspec": {
   "display_name": ".venv",
   "language": "python",
   "name": "python3"
  },
  "language_info": {
   "codemirror_mode": {
    "name": "ipython",
    "version": 3
   },
   "file_extension": ".py",
   "mimetype": "text/x-python",
   "name": "python",
   "nbconvert_exporter": "python",
   "pygments_lexer": "ipython3",
   "version": "3.12.3"
  }
 },
 "nbformat": 4,
 "nbformat_minor": 5
}
