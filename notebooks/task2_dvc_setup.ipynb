{
 "cells": [
  {
   "cell_type": "markdown",
   "id": "8b5a79b3",
   "metadata": {},
   "source": [
    "# Task 2: Data Version Control (DVC)\n",
    "**Date:** 2025-06-16\n",
    "\n",
    "This notebook sets up Data Version Control (DVC) to ensure reproducibility of the dataset and compliance with industry standards for data traceability.\n"
   ]
  },
  {
   "cell_type": "markdown",
   "id": "67fd529b",
   "metadata": {},
   "source": [
    "## 🔧 Step 1: Install and Initialize DVC\n"
   ]
  },
  {
   "cell_type": "code",
   "execution_count": 22,
   "id": "f5524d71",
   "metadata": {},
   "outputs": [
    {
     "name": "stdout",
     "output_type": "stream",
     "text": [
      "Requirement already satisfied: dvc in /home/ruhama/Desktop/End-to-End Insurance Risk Analytics & Predictive Modeling/.venv/lib/python3.12/site-packages (3.60.1)\n",
      "Requirement already satisfied: attrs>=22.2.0 in /home/ruhama/Desktop/End-to-End Insurance Risk Analytics & Predictive Modeling/.venv/lib/python3.12/site-packages (from dvc) (25.3.0)\n",
      "Requirement already satisfied: celery in /home/ruhama/Desktop/End-to-End Insurance Risk Analytics & Predictive Modeling/.venv/lib/python3.12/site-packages (from dvc) (5.5.3)\n",
      "Requirement already satisfied: colorama>=0.3.9 in /home/ruhama/Desktop/End-to-End Insurance Risk Analytics & Predictive Modeling/.venv/lib/python3.12/site-packages (from dvc) (0.4.6)\n",
      "Requirement already satisfied: configobj>=5.0.9 in /home/ruhama/Desktop/End-to-End Insurance Risk Analytics & Predictive Modeling/.venv/lib/python3.12/site-packages (from dvc) (5.0.9)\n",
      "Requirement already satisfied: distro>=1.3 in /home/ruhama/Desktop/End-to-End Insurance Risk Analytics & Predictive Modeling/.venv/lib/python3.12/site-packages (from dvc) (1.9.0)\n",
      "Requirement already satisfied: dpath<3,>=2.1.0 in /home/ruhama/Desktop/End-to-End Insurance Risk Analytics & Predictive Modeling/.venv/lib/python3.12/site-packages (from dvc) (2.2.0)\n",
      "Requirement already satisfied: dulwich in /home/ruhama/Desktop/End-to-End Insurance Risk Analytics & Predictive Modeling/.venv/lib/python3.12/site-packages (from dvc) (0.22.8)\n",
      "Requirement already satisfied: dvc-data<3.17,>=3.16.2 in /home/ruhama/Desktop/End-to-End Insurance Risk Analytics & Predictive Modeling/.venv/lib/python3.12/site-packages (from dvc) (3.16.10)\n",
      "Requirement already satisfied: dvc-http>=2.29.0 in /home/ruhama/Desktop/End-to-End Insurance Risk Analytics & Predictive Modeling/.venv/lib/python3.12/site-packages (from dvc) (2.32.0)\n",
      "Requirement already satisfied: dvc-objects in /home/ruhama/Desktop/End-to-End Insurance Risk Analytics & Predictive Modeling/.venv/lib/python3.12/site-packages (from dvc) (5.1.1)\n",
      "Requirement already satisfied: dvc-render<2,>=1.0.1 in /home/ruhama/Desktop/End-to-End Insurance Risk Analytics & Predictive Modeling/.venv/lib/python3.12/site-packages (from dvc) (1.0.2)\n",
      "Requirement already satisfied: dvc-studio-client<1,>=0.21 in /home/ruhama/Desktop/End-to-End Insurance Risk Analytics & Predictive Modeling/.venv/lib/python3.12/site-packages (from dvc) (0.21.0)\n",
      "Requirement already satisfied: dvc-task<1,>=0.3.0 in /home/ruhama/Desktop/End-to-End Insurance Risk Analytics & Predictive Modeling/.venv/lib/python3.12/site-packages (from dvc) (0.40.2)\n",
      "Requirement already satisfied: flatten_dict<1,>=0.4.1 in /home/ruhama/Desktop/End-to-End Insurance Risk Analytics & Predictive Modeling/.venv/lib/python3.12/site-packages (from dvc) (0.4.2)\n",
      "Requirement already satisfied: flufl.lock<9,>=8.1.0 in /home/ruhama/Desktop/End-to-End Insurance Risk Analytics & Predictive Modeling/.venv/lib/python3.12/site-packages (from dvc) (8.2.0)\n",
      "Requirement already satisfied: fsspec>=2024.2.0 in /home/ruhama/Desktop/End-to-End Insurance Risk Analytics & Predictive Modeling/.venv/lib/python3.12/site-packages (from dvc) (2025.5.1)\n",
      "Requirement already satisfied: funcy>=1.14 in /home/ruhama/Desktop/End-to-End Insurance Risk Analytics & Predictive Modeling/.venv/lib/python3.12/site-packages (from dvc) (2.0)\n",
      "Requirement already satisfied: grandalf<1,>=0.7 in /home/ruhama/Desktop/End-to-End Insurance Risk Analytics & Predictive Modeling/.venv/lib/python3.12/site-packages (from dvc) (0.8)\n",
      "Requirement already satisfied: gto<2,>=1.6.0 in /home/ruhama/Desktop/End-to-End Insurance Risk Analytics & Predictive Modeling/.venv/lib/python3.12/site-packages (from dvc) (1.7.2)\n",
      "Requirement already satisfied: hydra-core>=1.1 in /home/ruhama/Desktop/End-to-End Insurance Risk Analytics & Predictive Modeling/.venv/lib/python3.12/site-packages (from dvc) (1.3.2)\n",
      "Requirement already satisfied: iterative-telemetry>=0.0.7 in /home/ruhama/Desktop/End-to-End Insurance Risk Analytics & Predictive Modeling/.venv/lib/python3.12/site-packages (from dvc) (0.0.10)\n",
      "Requirement already satisfied: kombu in /home/ruhama/Desktop/End-to-End Insurance Risk Analytics & Predictive Modeling/.venv/lib/python3.12/site-packages (from dvc) (5.5.4)\n",
      "Requirement already satisfied: networkx>=2.5 in /home/ruhama/Desktop/End-to-End Insurance Risk Analytics & Predictive Modeling/.venv/lib/python3.12/site-packages (from dvc) (3.5)\n",
      "Requirement already satisfied: omegaconf in /home/ruhama/Desktop/End-to-End Insurance Risk Analytics & Predictive Modeling/.venv/lib/python3.12/site-packages (from dvc) (2.3.0)\n",
      "Requirement already satisfied: packaging>=19 in /home/ruhama/Desktop/End-to-End Insurance Risk Analytics & Predictive Modeling/.venv/lib/python3.12/site-packages (from dvc) (25.0)\n",
      "Requirement already satisfied: pathspec>=0.10.3 in /home/ruhama/Desktop/End-to-End Insurance Risk Analytics & Predictive Modeling/.venv/lib/python3.12/site-packages (from dvc) (0.12.1)\n",
      "Requirement already satisfied: platformdirs<5,>=3.1.1 in /home/ruhama/Desktop/End-to-End Insurance Risk Analytics & Predictive Modeling/.venv/lib/python3.12/site-packages (from dvc) (4.3.8)\n",
      "Requirement already satisfied: psutil>=5.8 in /home/ruhama/Desktop/End-to-End Insurance Risk Analytics & Predictive Modeling/.venv/lib/python3.12/site-packages (from dvc) (7.0.0)\n",
      "Requirement already satisfied: pydot>=1.2.4 in /home/ruhama/Desktop/End-to-End Insurance Risk Analytics & Predictive Modeling/.venv/lib/python3.12/site-packages (from dvc) (4.0.0)\n",
      "Requirement already satisfied: pygtrie>=2.3.2 in /home/ruhama/Desktop/End-to-End Insurance Risk Analytics & Predictive Modeling/.venv/lib/python3.12/site-packages (from dvc) (2.5.0)\n",
      "Requirement already satisfied: pyparsing>=2.4.7 in /home/ruhama/Desktop/End-to-End Insurance Risk Analytics & Predictive Modeling/.venv/lib/python3.12/site-packages (from dvc) (3.2.3)\n",
      "Requirement already satisfied: requests>=2.22 in /home/ruhama/Desktop/End-to-End Insurance Risk Analytics & Predictive Modeling/.venv/lib/python3.12/site-packages (from dvc) (2.32.4)\n",
      "Requirement already satisfied: rich>=12 in /home/ruhama/Desktop/End-to-End Insurance Risk Analytics & Predictive Modeling/.venv/lib/python3.12/site-packages (from dvc) (14.0.0)\n",
      "Requirement already satisfied: ruamel.yaml>=0.17.11 in /home/ruhama/Desktop/End-to-End Insurance Risk Analytics & Predictive Modeling/.venv/lib/python3.12/site-packages (from dvc) (0.18.14)\n",
      "Requirement already satisfied: scmrepo<4,>=3.3.8 in /home/ruhama/Desktop/End-to-End Insurance Risk Analytics & Predictive Modeling/.venv/lib/python3.12/site-packages (from dvc) (3.3.11)\n",
      "Requirement already satisfied: shortuuid>=0.5 in /home/ruhama/Desktop/End-to-End Insurance Risk Analytics & Predictive Modeling/.venv/lib/python3.12/site-packages (from dvc) (1.0.13)\n",
      "Requirement already satisfied: shtab<2,>=1.3.4 in /home/ruhama/Desktop/End-to-End Insurance Risk Analytics & Predictive Modeling/.venv/lib/python3.12/site-packages (from dvc) (1.7.2)\n",
      "Requirement already satisfied: tabulate>=0.8.7 in /home/ruhama/Desktop/End-to-End Insurance Risk Analytics & Predictive Modeling/.venv/lib/python3.12/site-packages (from dvc) (0.9.0)\n",
      "Requirement already satisfied: tomlkit>=0.11.1 in /home/ruhama/Desktop/End-to-End Insurance Risk Analytics & Predictive Modeling/.venv/lib/python3.12/site-packages (from dvc) (0.13.3)\n",
      "Requirement already satisfied: tqdm<5,>=4.63.1 in /home/ruhama/Desktop/End-to-End Insurance Risk Analytics & Predictive Modeling/.venv/lib/python3.12/site-packages (from dvc) (4.67.1)\n",
      "Requirement already satisfied: voluptuous>=0.11.7 in /home/ruhama/Desktop/End-to-End Insurance Risk Analytics & Predictive Modeling/.venv/lib/python3.12/site-packages (from dvc) (0.15.2)\n",
      "Requirement already satisfied: zc.lockfile>=1.2.1 in /home/ruhama/Desktop/End-to-End Insurance Risk Analytics & Predictive Modeling/.venv/lib/python3.12/site-packages (from dvc) (3.0.post1)\n",
      "Requirement already satisfied: dictdiffer>=0.8.1 in /home/ruhama/Desktop/End-to-End Insurance Risk Analytics & Predictive Modeling/.venv/lib/python3.12/site-packages (from dvc-data<3.17,>=3.16.2->dvc) (0.9.0)\n",
      "Requirement already satisfied: diskcache>=5.2.1 in /home/ruhama/Desktop/End-to-End Insurance Risk Analytics & Predictive Modeling/.venv/lib/python3.12/site-packages (from dvc-data<3.17,>=3.16.2->dvc) (5.6.3)\n",
      "Requirement already satisfied: sqltrie<1,>=0.11.0 in /home/ruhama/Desktop/End-to-End Insurance Risk Analytics & Predictive Modeling/.venv/lib/python3.12/site-packages (from dvc-data<3.17,>=3.16.2->dvc) (0.11.2)\n",
      "Requirement already satisfied: orjson<4,>=3 in /home/ruhama/Desktop/End-to-End Insurance Risk Analytics & Predictive Modeling/.venv/lib/python3.12/site-packages (from dvc-data<3.17,>=3.16.2->dvc) (3.10.18)\n",
      "Requirement already satisfied: billiard<5.0,>=4.2.1 in /home/ruhama/Desktop/End-to-End Insurance Risk Analytics & Predictive Modeling/.venv/lib/python3.12/site-packages (from celery->dvc) (4.2.1)\n",
      "Requirement already satisfied: vine<6.0,>=5.1.0 in /home/ruhama/Desktop/End-to-End Insurance Risk Analytics & Predictive Modeling/.venv/lib/python3.12/site-packages (from celery->dvc) (5.1.0)\n",
      "Requirement already satisfied: click<9.0,>=8.1.2 in /home/ruhama/Desktop/End-to-End Insurance Risk Analytics & Predictive Modeling/.venv/lib/python3.12/site-packages (from celery->dvc) (8.2.1)\n",
      "Requirement already satisfied: click-didyoumean>=0.3.0 in /home/ruhama/Desktop/End-to-End Insurance Risk Analytics & Predictive Modeling/.venv/lib/python3.12/site-packages (from celery->dvc) (0.3.1)\n",
      "Requirement already satisfied: click-repl>=0.2.0 in /home/ruhama/Desktop/End-to-End Insurance Risk Analytics & Predictive Modeling/.venv/lib/python3.12/site-packages (from celery->dvc) (0.3.0)\n",
      "Requirement already satisfied: click-plugins>=1.1.1 in /home/ruhama/Desktop/End-to-End Insurance Risk Analytics & Predictive Modeling/.venv/lib/python3.12/site-packages (from celery->dvc) (1.1.1)\n",
      "Requirement already satisfied: python-dateutil>=2.8.2 in /home/ruhama/Desktop/End-to-End Insurance Risk Analytics & Predictive Modeling/.venv/lib/python3.12/site-packages (from celery->dvc) (2.9.0.post0)\n",
      "Requirement already satisfied: six<2.0,>=1.12 in /home/ruhama/Desktop/End-to-End Insurance Risk Analytics & Predictive Modeling/.venv/lib/python3.12/site-packages (from flatten_dict<1,>=0.4.1->dvc) (1.17.0)\n",
      "Requirement already satisfied: atpublic in /home/ruhama/Desktop/End-to-End Insurance Risk Analytics & Predictive Modeling/.venv/lib/python3.12/site-packages (from flufl.lock<9,>=8.1.0->dvc) (6.0.1)\n",
      "Requirement already satisfied: entrypoints in /home/ruhama/Desktop/End-to-End Insurance Risk Analytics & Predictive Modeling/.venv/lib/python3.12/site-packages (from gto<2,>=1.6.0->dvc) (0.4)\n",
      "Requirement already satisfied: pydantic!=2.0.0,<3,>=1.9.0 in /home/ruhama/Desktop/End-to-End Insurance Risk Analytics & Predictive Modeling/.venv/lib/python3.12/site-packages (from gto<2,>=1.6.0->dvc) (2.11.7)\n",
      "Requirement already satisfied: semver>=2.13.0 in /home/ruhama/Desktop/End-to-End Insurance Risk Analytics & Predictive Modeling/.venv/lib/python3.12/site-packages (from gto<2,>=1.6.0->dvc) (3.0.4)\n",
      "Requirement already satisfied: typer>=0.4.1 in /home/ruhama/Desktop/End-to-End Insurance Risk Analytics & Predictive Modeling/.venv/lib/python3.12/site-packages (from gto<2,>=1.6.0->dvc) (0.16.0)\n",
      "Requirement already satisfied: amqp<6.0.0,>=5.1.1 in /home/ruhama/Desktop/End-to-End Insurance Risk Analytics & Predictive Modeling/.venv/lib/python3.12/site-packages (from kombu->dvc) (5.3.1)\n",
      "Requirement already satisfied: tzdata>=2025.2 in /home/ruhama/Desktop/End-to-End Insurance Risk Analytics & Predictive Modeling/.venv/lib/python3.12/site-packages (from kombu->dvc) (2025.2)\n",
      "Requirement already satisfied: annotated-types>=0.6.0 in /home/ruhama/Desktop/End-to-End Insurance Risk Analytics & Predictive Modeling/.venv/lib/python3.12/site-packages (from pydantic!=2.0.0,<3,>=1.9.0->gto<2,>=1.6.0->dvc) (0.7.0)\n",
      "Requirement already satisfied: pydantic-core==2.33.2 in /home/ruhama/Desktop/End-to-End Insurance Risk Analytics & Predictive Modeling/.venv/lib/python3.12/site-packages (from pydantic!=2.0.0,<3,>=1.9.0->gto<2,>=1.6.0->dvc) (2.33.2)\n",
      "Requirement already satisfied: typing-extensions>=4.12.2 in /home/ruhama/Desktop/End-to-End Insurance Risk Analytics & Predictive Modeling/.venv/lib/python3.12/site-packages (from pydantic!=2.0.0,<3,>=1.9.0->gto<2,>=1.6.0->dvc) (4.14.0)\n",
      "Requirement already satisfied: typing-inspection>=0.4.0 in /home/ruhama/Desktop/End-to-End Insurance Risk Analytics & Predictive Modeling/.venv/lib/python3.12/site-packages (from pydantic!=2.0.0,<3,>=1.9.0->gto<2,>=1.6.0->dvc) (0.4.1)\n",
      "Requirement already satisfied: gitpython>3 in /home/ruhama/Desktop/End-to-End Insurance Risk Analytics & Predictive Modeling/.venv/lib/python3.12/site-packages (from scmrepo<4,>=3.3.8->dvc) (3.1.44)\n",
      "Requirement already satisfied: pygit2>=1.14.0 in /home/ruhama/Desktop/End-to-End Insurance Risk Analytics & Predictive Modeling/.venv/lib/python3.12/site-packages (from scmrepo<4,>=3.3.8->dvc) (1.18.0)\n",
      "Requirement already satisfied: asyncssh<3,>=2.13.1 in /home/ruhama/Desktop/End-to-End Insurance Risk Analytics & Predictive Modeling/.venv/lib/python3.12/site-packages (from scmrepo<4,>=3.3.8->dvc) (2.21.0)\n",
      "Requirement already satisfied: aiohttp-retry>=2.5.0 in /home/ruhama/Desktop/End-to-End Insurance Risk Analytics & Predictive Modeling/.venv/lib/python3.12/site-packages (from scmrepo<4,>=3.3.8->dvc) (2.9.1)\n",
      "Requirement already satisfied: cryptography>=39.0 in /home/ruhama/Desktop/End-to-End Insurance Risk Analytics & Predictive Modeling/.venv/lib/python3.12/site-packages (from asyncssh<3,>=2.13.1->scmrepo<4,>=3.3.8->dvc) (45.0.4)\n",
      "Requirement already satisfied: aiohttp in /home/ruhama/Desktop/End-to-End Insurance Risk Analytics & Predictive Modeling/.venv/lib/python3.12/site-packages (from aiohttp-retry>=2.5.0->scmrepo<4,>=3.3.8->dvc) (3.12.13)\n",
      "Requirement already satisfied: prompt-toolkit>=3.0.36 in /home/ruhama/Desktop/End-to-End Insurance Risk Analytics & Predictive Modeling/.venv/lib/python3.12/site-packages (from click-repl>=0.2.0->celery->dvc) (3.0.51)\n",
      "Requirement already satisfied: cffi>=1.14 in /home/ruhama/Desktop/End-to-End Insurance Risk Analytics & Predictive Modeling/.venv/lib/python3.12/site-packages (from cryptography>=39.0->asyncssh<3,>=2.13.1->scmrepo<4,>=3.3.8->dvc) (1.17.1)\n",
      "Requirement already satisfied: pycparser in /home/ruhama/Desktop/End-to-End Insurance Risk Analytics & Predictive Modeling/.venv/lib/python3.12/site-packages (from cffi>=1.14->cryptography>=39.0->asyncssh<3,>=2.13.1->scmrepo<4,>=3.3.8->dvc) (2.22)\n",
      "Requirement already satisfied: urllib3>=1.25 in /home/ruhama/Desktop/End-to-End Insurance Risk Analytics & Predictive Modeling/.venv/lib/python3.12/site-packages (from dulwich->dvc) (2.4.0)\n",
      "Requirement already satisfied: gitdb<5,>=4.0.1 in /home/ruhama/Desktop/End-to-End Insurance Risk Analytics & Predictive Modeling/.venv/lib/python3.12/site-packages (from gitpython>3->scmrepo<4,>=3.3.8->dvc) (4.0.12)\n",
      "Requirement already satisfied: smmap<6,>=3.0.1 in /home/ruhama/Desktop/End-to-End Insurance Risk Analytics & Predictive Modeling/.venv/lib/python3.12/site-packages (from gitdb<5,>=4.0.1->gitpython>3->scmrepo<4,>=3.3.8->dvc) (5.0.2)\n",
      "Requirement already satisfied: antlr4-python3-runtime==4.9.* in /home/ruhama/Desktop/End-to-End Insurance Risk Analytics & Predictive Modeling/.venv/lib/python3.12/site-packages (from hydra-core>=1.1->dvc) (4.9.3)\n",
      "Requirement already satisfied: PyYAML>=5.1.0 in /home/ruhama/Desktop/End-to-End Insurance Risk Analytics & Predictive Modeling/.venv/lib/python3.12/site-packages (from omegaconf->dvc) (6.0.2)\n",
      "Requirement already satisfied: appdirs in /home/ruhama/Desktop/End-to-End Insurance Risk Analytics & Predictive Modeling/.venv/lib/python3.12/site-packages (from iterative-telemetry>=0.0.7->dvc) (1.4.4)\n",
      "Requirement already satisfied: filelock in /home/ruhama/Desktop/End-to-End Insurance Risk Analytics & Predictive Modeling/.venv/lib/python3.12/site-packages (from iterative-telemetry>=0.0.7->dvc) (3.18.0)\n",
      "Requirement already satisfied: wcwidth in /home/ruhama/Desktop/End-to-End Insurance Risk Analytics & Predictive Modeling/.venv/lib/python3.12/site-packages (from prompt-toolkit>=3.0.36->click-repl>=0.2.0->celery->dvc) (0.2.13)\n",
      "Requirement already satisfied: charset_normalizer<4,>=2 in /home/ruhama/Desktop/End-to-End Insurance Risk Analytics & Predictive Modeling/.venv/lib/python3.12/site-packages (from requests>=2.22->dvc) (3.4.2)\n",
      "Requirement already satisfied: idna<4,>=2.5 in /home/ruhama/Desktop/End-to-End Insurance Risk Analytics & Predictive Modeling/.venv/lib/python3.12/site-packages (from requests>=2.22->dvc) (3.10)\n",
      "Requirement already satisfied: certifi>=2017.4.17 in /home/ruhama/Desktop/End-to-End Insurance Risk Analytics & Predictive Modeling/.venv/lib/python3.12/site-packages (from requests>=2.22->dvc) (2025.6.15)\n",
      "Requirement already satisfied: markdown-it-py>=2.2.0 in /home/ruhama/Desktop/End-to-End Insurance Risk Analytics & Predictive Modeling/.venv/lib/python3.12/site-packages (from rich>=12->dvc) (3.0.0)\n",
      "Requirement already satisfied: pygments<3.0.0,>=2.13.0 in /home/ruhama/Desktop/End-to-End Insurance Risk Analytics & Predictive Modeling/.venv/lib/python3.12/site-packages (from rich>=12->dvc) (2.19.1)\n",
      "Requirement already satisfied: mdurl~=0.1 in /home/ruhama/Desktop/End-to-End Insurance Risk Analytics & Predictive Modeling/.venv/lib/python3.12/site-packages (from markdown-it-py>=2.2.0->rich>=12->dvc) (0.1.2)\n",
      "Requirement already satisfied: ruamel.yaml.clib>=0.2.7 in /home/ruhama/Desktop/End-to-End Insurance Risk Analytics & Predictive Modeling/.venv/lib/python3.12/site-packages (from ruamel.yaml>=0.17.11->dvc) (0.2.12)\n",
      "Requirement already satisfied: shellingham>=1.3.0 in /home/ruhama/Desktop/End-to-End Insurance Risk Analytics & Predictive Modeling/.venv/lib/python3.12/site-packages (from typer>=0.4.1->gto<2,>=1.6.0->dvc) (1.5.4)\n",
      "Requirement already satisfied: setuptools in /home/ruhama/Desktop/End-to-End Insurance Risk Analytics & Predictive Modeling/.venv/lib/python3.12/site-packages (from zc.lockfile>=1.2.1->dvc) (80.9.0)\n",
      "Requirement already satisfied: aiohappyeyeballs>=2.5.0 in /home/ruhama/Desktop/End-to-End Insurance Risk Analytics & Predictive Modeling/.venv/lib/python3.12/site-packages (from aiohttp->aiohttp-retry>=2.5.0->scmrepo<4,>=3.3.8->dvc) (2.6.1)\n",
      "Requirement already satisfied: aiosignal>=1.1.2 in /home/ruhama/Desktop/End-to-End Insurance Risk Analytics & Predictive Modeling/.venv/lib/python3.12/site-packages (from aiohttp->aiohttp-retry>=2.5.0->scmrepo<4,>=3.3.8->dvc) (1.3.2)\n",
      "Requirement already satisfied: frozenlist>=1.1.1 in /home/ruhama/Desktop/End-to-End Insurance Risk Analytics & Predictive Modeling/.venv/lib/python3.12/site-packages (from aiohttp->aiohttp-retry>=2.5.0->scmrepo<4,>=3.3.8->dvc) (1.7.0)\n",
      "Requirement already satisfied: multidict<7.0,>=4.5 in /home/ruhama/Desktop/End-to-End Insurance Risk Analytics & Predictive Modeling/.venv/lib/python3.12/site-packages (from aiohttp->aiohttp-retry>=2.5.0->scmrepo<4,>=3.3.8->dvc) (6.4.4)\n",
      "Requirement already satisfied: propcache>=0.2.0 in /home/ruhama/Desktop/End-to-End Insurance Risk Analytics & Predictive Modeling/.venv/lib/python3.12/site-packages (from aiohttp->aiohttp-retry>=2.5.0->scmrepo<4,>=3.3.8->dvc) (0.3.2)\n",
      "Requirement already satisfied: yarl<2.0,>=1.17.0 in /home/ruhama/Desktop/End-to-End Insurance Risk Analytics & Predictive Modeling/.venv/lib/python3.12/site-packages (from aiohttp->aiohttp-retry>=2.5.0->scmrepo<4,>=3.3.8->dvc) (1.20.1)\n",
      "Note: you may need to restart the kernel to use updated packages.\n",
      "\u001b[31mERROR\u001b[39m: failed to initiate DVC - /home/ruhama/Desktop/End-to-End Insurance Risk Analytics & Predictive Modeling/notebooks is not tracked by any supported SCM tool (e.g. Git). Use `--no-scm` if you don't want to use any SCM or `--subdir` if initializing inside a subdirectory of a parent SCM repository.\n",
      "\u001b[0m"
     ]
    }
   ],
   "source": [
    "# Install DVC if not already installed\n",
    "%pip install dvc\n",
    "\n",
    "# Initialize DVC in the current repository (only run once)\n",
    "!dvc init\n"
   ]
  },
  {
   "cell_type": "markdown",
   "id": "87163a8f",
   "metadata": {},
   "source": [
    "## 💾 Step 2: Configure Local Remote Storage\n"
   ]
  },
  {
   "cell_type": "code",
   "execution_count": 23,
   "id": "335cd267",
   "metadata": {},
   "outputs": [
    {
     "name": "stdout",
     "output_type": "stream",
     "text": [
      "Setting 'localstorage' as a default remote.\n",
      "\u001b[31mERROR\u001b[39m: configuration error - config file error: remote 'localstorage' already exists. Use `-f|--force` to overwrite it.\n",
      "\u001b[0m"
     ]
    }
   ],
   "source": [
    "# Create a local directory to store versioned data\n",
    "!mkdir -p ../dvc_storage\n",
    "\n",
    "# Add the local directory as the DVC remote\n",
    "!dvc remote add -d localstorage ../dvc_storage\n"
   ]
  },
  {
   "cell_type": "markdown",
   "id": "d58af2e9",
   "metadata": {},
   "source": [
    "## 📦 Step 3: Add Dataset to DVC\n"
   ]
  },
  {
   "cell_type": "code",
   "execution_count": 24,
   "id": "faf92621",
   "metadata": {},
   "outputs": [
    {
     "name": "stdout",
     "output_type": "stream",
     "text": [
      "\u001b[31mERROR\u001b[39m: bad DVC file name '../data/MachineLearningRating_v3.txt.dvc' is git-ignored.\n",
      "\u001b[0minsurance.txt\n"
     ]
    }
   ],
   "source": [
    "# Track the main dataset with DVC\n",
    "!dvc add ../data/MachineLearningRating_v3.txt\n",
    "\n",
    "# Check that the .dvc file was created\n",
    "!ls ../data\n"
   ]
  },
  {
   "cell_type": "markdown",
   "id": "1f083978",
   "metadata": {},
   "source": [
    "## ✅ Step 4: Commit Tracking Files to Git\n"
   ]
  },
  {
   "cell_type": "code",
   "execution_count": 25,
   "id": "fdf90c2a",
   "metadata": {},
   "outputs": [
    {
     "name": "stdout",
     "output_type": "stream",
     "text": [
      "fatal: pathspec '../data/insurance.txt.dvc' did not match any files\n"
     ]
    },
    {
     "name": "stdout",
     "output_type": "stream",
     "text": [
      "[task-2 9aacf78] Track insurance dataset with DVC and setup local remote\n",
      " 3 files changed, 6 insertions(+)\n",
      " create mode 100644 .dvc/.gitignore\n",
      " create mode 100644 .dvc/config\n",
      " create mode 100644 .dvcignore\n"
     ]
    }
   ],
   "source": [
    "# Add DVC tracking files and commit to Git\n",
    "!git add ../data/insurance.txt.dvc .gitignore .dvc/config\n",
    "!git commit -m \"Track insurance dataset with DVC and setup local remote\"\n"
   ]
  },
  {
   "cell_type": "markdown",
   "id": "850960ca",
   "metadata": {},
   "source": [
    "## ☁️ Step 5: Push Dataset to Remote Storage\n"
   ]
  },
  {
   "cell_type": "code",
   "execution_count": 26,
   "id": "2b5674ff",
   "metadata": {},
   "outputs": [
    {
     "name": "stdout",
     "output_type": "stream",
     "text": [
      "Collecting                                            |0.00 [00:00,    ?entry/s]\n",
      "Pushing\n",
      "Everything is up to date.\n",
      "\u001b[0m"
     ]
    }
   ],
   "source": [
    "# Push the dataset to the local remote\n",
    "!dvc push\n"
   ]
  },
  {
   "cell_type": "markdown",
   "id": "1c9ac435",
   "metadata": {},
   "source": [
    "## 📌 Summary\n",
    "\n",
    "- DVC was initialized in the repository.\n",
    "- A local directory was configured as a DVC remote.\n",
    "- The dataset was tracked and versioned using DVC.\n",
    "- Changes were committed to Git and data was pushed to the remote.\n",
    "\n",
    "This setup ensures data reproducibility and integrity for future analysis and modeling tasks.\n"
   ]
  }
 ],
 "metadata": {
  "kernelspec": {
   "display_name": ".venv",
   "language": "python",
   "name": "python3"
  },
  "language_info": {
   "codemirror_mode": {
    "name": "ipython",
    "version": 3
   },
   "file_extension": ".py",
   "mimetype": "text/x-python",
   "name": "python",
   "nbconvert_exporter": "python",
   "pygments_lexer": "ipython3",
   "version": "3.12.3"
  }
 },
 "nbformat": 4,
 "nbformat_minor": 5
}
